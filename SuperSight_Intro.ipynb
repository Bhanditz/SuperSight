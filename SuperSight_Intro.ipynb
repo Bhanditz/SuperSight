{
 "cells": [
  {
   "cell_type": "markdown",
   "metadata": {},
   "source": [
    "![logo](https://s3.eu-central-1.amazonaws.com/camo-bucket/logo_small.svg)"
   ]
  },
  {
   "cell_type": "code",
   "execution_count": 1,
   "metadata": {
    "collapsed": true
   },
   "outputs": [],
   "source": [
    "import matplotlib.pyplot as plt\n",
    "plt.style.use('seaborn-whitegrid')\n",
    "%matplotlib inline\n",
    "import numpy as np\n",
    "import io\n",
    "import os\n",
    "import urllib.request"
   ]
  },
  {
   "cell_type": "code",
   "execution_count": 2,
   "metadata": {
    "collapsed": false
   },
   "outputs": [],
   "source": [
    "from supersight import Dashboard, Plots_gatherer"
   ]
  },
  {
   "cell_type": "markdown",
   "metadata": {},
   "source": [
    "# 1. Create a collection of plots\n",
    "The main goal of supersight is to gather your plots and organize these plots with a mini web site.\n",
    "Actually, you can embed any svg plots but this tool was designed to work with MatPlotlib.  \n",
    "\n",
    "We start by creating a plots gatherer object.  \n",
    "It will contain our plots for easy retrieval:"
   ]
  },
  {
   "cell_type": "code",
   "execution_count": 3,
   "metadata": {
    "collapsed": true
   },
   "outputs": [],
   "source": [
    "plots = Plots_gatherer()"
   ]
  },
  {
   "cell_type": "markdown",
   "metadata": {},
   "source": [
    "Let's generate a simple plot :"
   ]
  },
  {
   "cell_type": "code",
   "execution_count": 4,
   "metadata": {
    "collapsed": false
   },
   "outputs": [
    {
     "data": {
      "image/png": "[encoded data removed]",
      "text/plain": [
       "<matplotlib.figure.Figure at 0x10d0f5668>"
      ]
     },
     "metadata": {},
     "output_type": "display_data"
    }
   ],
   "source": [
    "graph = plt.figure()\n",
    "x = np.linspace(0, 10, 30)\n",
    "y = np.sin(x)\n",
    "plt.plot(x, y, 'o', color='black');\n",
    "\n",
    "buf = io.BytesIO()\n",
    "plt.savefig(buf, format='svg')\n",
    "plots.add_plot(\"first graph\", buf)"
   ]
  },
  {
   "cell_type": "markdown",
   "metadata": {},
   "source": [
    "Once your are happy with it, supersight requires you to save your plot in  BytesIO objects.  \n",
    "SVG format is advised since it is lightweight and vector-based.  \n",
    "The three last lines are required to save your plot in a way supersight can handle."
   ]
  },
  {
   "cell_type": "markdown",
   "metadata": {},
   "source": [
    "We will make a new plot :"
   ]
  },
  {
   "cell_type": "code",
   "execution_count": 5,
   "metadata": {
    "collapsed": false
   },
   "outputs": [
    {
     "data": {
      "image/png": "[encoded data removed]",
      "text/plain": [
       "<matplotlib.figure.Figure at 0x10d118908>"
      ]
     },
     "metadata": {},
     "output_type": "display_data"
    }
   ],
   "source": [
    "graph = plt.figure()\n",
    "plt.plot(x, y, '-ok')\n",
    "buf = io.BytesIO()\n",
    "plt.savefig(buf, format='svg')\n",
    "plots.add_plot(\"second graph\", buf)"
   ]
  },
  {
   "cell_type": "markdown",
   "metadata": {},
   "source": [
    "And a third graph for the example :"
   ]
  },
  {
   "cell_type": "code",
   "execution_count": 6,
   "metadata": {
    "collapsed": false
   },
   "outputs": [
    {
     "data": {
      "image/png": "[encoded data removed]",
      "text/plain": [
       "<matplotlib.figure.Figure at 0x10fbad2e8>"
      ]
     },
     "metadata": {},
     "output_type": "display_data"
    }
   ],
   "source": [
    "graph = plt.figure()\n",
    "plt.scatter(np.random.randn(100), np.random.randn(100));\n",
    "buf = io.BytesIO()\n",
    "plt.savefig(buf, format='svg')\n",
    "#plt.close()\n",
    "plots.add_plot(\"third graph\", buf)"
   ]
  },
  {
   "cell_type": "markdown",
   "metadata": {},
   "source": [
    "Below is a hack to load external svg in our mini site :"
   ]
  },
  {
   "cell_type": "code",
   "execution_count": 7,
   "metadata": {
    "collapsed": false
   },
   "outputs": [],
   "source": [
    "logo = open(\"logo_small.svg\", \"rb\")\n",
    "logo_buf = io.BytesIO(logo.read())\n",
    "plots.add_plot(\"logo\", logo_buf)\n",
    "logo.close()"
   ]
  },
  {
   "cell_type": "markdown",
   "metadata": {},
   "source": [
    "# 2. Create a dashboard\n",
    "Once your plots are saved in BytesIO objects you can start making a dashboard by initiating a Dashboard object :  \n"
   ]
  },
  {
   "cell_type": "code",
   "execution_count": 8,
   "metadata": {
    "collapsed": true
   },
   "outputs": [],
   "source": [
    "ds = Dashboard()"
   ]
  },
  {
   "cell_type": "markdown",
   "metadata": {},
   "source": [
    "By default, the mini site comes with a home page. We will add two sections. The first section will contain only one page and the second will contain two pages.  \n",
    "**As a convention a single-page section is composed of a page named \"Page 1\".**"
   ]
  },
  {
   "cell_type": "code",
   "execution_count": 9,
   "metadata": {
    "collapsed": false
   },
   "outputs": [],
   "source": [
    "ds.add_section(\"Section 1\")\n",
    "# We just created a section named Section 1. Pick a custom name that describe an underlying idea of your plots.\n",
    "ds.sections[\"Section 1\"].add_page(\"Page 1\")\n",
    "\n",
    "\n",
    "ds.add_section(\"Section 2\")\n",
    "# We just created a section named Section 2. We said we wanted two pages in this section :\n",
    "ds.sections[\"Section 2\"].add_page(\"Page 1\")\n",
    "ds.sections[\"Section 2\"].add_page(\"Great Page\") # name it as you want !"
   ]
  },
  {
   "cell_type": "markdown",
   "metadata": {},
   "source": [
    "Each page is organised following a classic Bootstrap grid. Users can display elements on this grid. The default grid is `[(6, 6), (6, 6), (6, 6)]`. It means the page displays three rows with two elements on each row.  \n",
    "Of course, this layout can be overridden. For the Home page we will display the supersight logo.  \n",
    "According to the Bootstrap grid system the layout for a single row and a single element is `[(12,)]`."
   ]
  },
  {
   "cell_type": "code",
   "execution_count": 10,
   "metadata": {
    "collapsed": true
   },
   "outputs": [],
   "source": [
    "ds.sections[\"Home\"].pages[\"Home\"].layout = [(12,)]"
   ]
  },
  {
   "cell_type": "code",
   "execution_count": 11,
   "metadata": {
    "collapsed": false
   },
   "outputs": [],
   "source": [
    "ds.sections[\"Home\"].pages[\"Home\"].add_element(name = \"logo\", plot_object = plots.get_plot(\"logo\"))\n"
   ]
  },
  {
   "cell_type": "markdown",
   "metadata": {},
   "source": [
    "In section 1, the default grid can stay (hence six plots). Users can populate the grid with their plots. This process populate the grid from left to right and from top to bottom :"
   ]
  },
  {
   "cell_type": "code",
   "execution_count": 12,
   "metadata": {
    "collapsed": false
   },
   "outputs": [],
   "source": [
    "ds.sections[\"Section 1\"].pages[\"Page 1\"].add_element(name = \"plot 1\", plot_object = plots.get_plot(\"first graph\"))\n",
    "ds.sections[\"Section 1\"].pages[\"Page 1\"].add_element(name = \"plot 2\", plot_object = plots.get_plot(\"first graph\"))\n",
    "\n",
    "ds.sections[\"Section 1\"].pages[\"Page 1\"].add_element(name = \"plot 3\", plot_object = plots.get_plot(\"second graph\"))\n",
    "ds.sections[\"Section 1\"].pages[\"Page 1\"].add_element(name = \"plot 4\", plot_object = plots.get_plot(\"second graph\"))\n",
    "\n",
    "ds.sections[\"Section 1\"].pages[\"Page 1\"].add_element(name = \"plot 5\", plot_object = plots.get_plot(\"third graph\"))\n",
    "ds.sections[\"Section 1\"].pages[\"Page 1\"].add_element(name = \"plot 6\", plot_object = plots.get_plot(\"third graph\"))\n",
    "# add comments :\n",
    "ds.sections[\"Section 1\"].pages[\"Page 1\"].elements[\"plot 3\"].add_comment_below(\"This plot will convince you !\")\n",
    "ds.sections[\"Section 1\"].pages[\"Page 1\"].elements[\"plot 6\"].add_comment_below(\"This one is not bad either !\")"
   ]
  },
  {
   "cell_type": "markdown",
   "metadata": {},
   "source": [
    "Now we can try to vary the layout. For instance on the first row we will display a plot two third the width.  \n",
    "On the second row we can display a unique plot with a heading.  \n",
    "And then three small plots on the last row."
   ]
  },
  {
   "cell_type": "code",
   "execution_count": 13,
   "metadata": {
    "collapsed": true
   },
   "outputs": [],
   "source": [
    "ds.sections[\"Section 2\"].pages[\"Page 1\"].layout = [(8, 4), (12,), (4, 4, 4)]\n",
    "\n",
    "ds.sections[\"Section 2\"].pages[\"Page 1\"].add_element(name = \"plot 1\", plot_object = plots.get_plot(\"third graph\"), heading = None)\n",
    "ds.sections[\"Section 2\"].pages[\"Page 1\"].add_element(name = \"plot 2\", plot_object = plots.get_plot(\"first graph\"), heading = None)\n",
    "\n",
    "ds.sections[\"Section 2\"].pages[\"Page 1\"].add_element(name = \"plot 3\", plot_object = plots.get_plot(\"second graph\"), heading = \"Interesting Heading\")\n",
    "\n",
    "ds.sections[\"Section 2\"].pages[\"Page 1\"].add_element(name = \"plot 4\", plot_object = plots.get_plot(\"third graph\"), heading = None)\n",
    "ds.sections[\"Section 2\"].pages[\"Page 1\"].add_element(name = \"plot 5\", plot_object = plots.get_plot(\"third graph\"), heading = None)\n",
    "ds.sections[\"Section 2\"].pages[\"Page 1\"].add_element(name = \"plot 6\", plot_object = plots.get_plot(\"third graph\"), heading = None)"
   ]
  },
  {
   "cell_type": "markdown",
   "metadata": {},
   "source": [
    "To finish, we can display text on the \"great page\" !"
   ]
  },
  {
   "cell_type": "code",
   "execution_count": 14,
   "metadata": {
    "collapsed": false
   },
   "outputs": [
    {
     "name": "stdout",
     "output_type": "stream",
     "text": [
      "bootstrap-grid.css\n",
      "bootstrap-grid.css.map\n",
      "bootstrap-grid.min.css\n",
      "bootstrap-grid.min.css.map\n",
      "bootstrap-reboot.css\n",
      "bootstrap-reboot.css.map\n",
      "bootstrap-reboot.min.css\n",
      "bootstrap-reboot.min.css.map\n",
      "bootstrap.css\n",
      "bootstrap.css.map\n",
      "bootstrap.min.css\n",
      "bootstrap.min.css.map\n",
      "jumbotron.css\n",
      ".DS_Store\n",
      "bootstrap.js\n",
      "bootstrap.min.js\n",
      "Home Home logo\n",
      "Starting individual page : Section 1 Page 1\n",
      "Section 1 Page 1 plot 1\n",
      "Section 1 Page 1 plot 2\n",
      "Section 1 Page 1 plot 3\n",
      "Section 1 Page 1 plot 4\n",
      "Section 1 Page 1 plot 5\n",
      "Section 1 Page 1 plot 6\n",
      "Starting individual page : Section 2 Page 1\n",
      "Section 2 Page 1 plot 1\n",
      "Section 2 Page 1 plot 2\n",
      "Section 2 Page 1 plot 3\n",
      "Section 2 Page 1 plot 4\n",
      "Section 2 Page 1 plot 5\n",
      "Section 2 Page 1 plot 6\n",
      "Starting individual page : Section 2 Great Page\n"
     ]
    }
   ],
   "source": [
    "ds.render()"
   ]
  },
  {
   "cell_type": "code",
   "execution_count": 15,
   "metadata": {
    "collapsed": false
   },
   "outputs": [
    {
     "data": {
      "text/plain": [
       "[['Home'], ['Page 1'], ['Page 1', 'Great Page']]"
      ]
     },
     "execution_count": 15,
     "metadata": {},
     "output_type": "execute_result"
    }
   ],
   "source": [
    "ds.nav_bar_section_page"
   ]
  },
  {
   "cell_type": "code",
   "execution_count": 16,
   "metadata": {
    "collapsed": false
   },
   "outputs": [
    {
     "data": {
      "text/plain": [
       "[1, 1, 2]"
      ]
     },
     "execution_count": 16,
     "metadata": {},
     "output_type": "execute_result"
    }
   ],
   "source": [
    "[len(x) for x in ds.nav_bar_section_page]"
   ]
  },
  {
   "cell_type": "code",
   "execution_count": 17,
   "metadata": {
    "collapsed": false
   },
   "outputs": [
    {
     "ename": "AttributeError",
     "evalue": "'Dashboard' object has no attribute 'nav_bar_section'",
     "output_type": "error",
     "traceback": [
      "\u001b[0;31m---------------------------------------------------------------------------\u001b[0m",
      "\u001b[0;31mAttributeError\u001b[0m                            Traceback (most recent call last)",
      "\u001b[0;32m<ipython-input-17-23693e50c0a0>\u001b[0m in \u001b[0;36m<module>\u001b[0;34m()\u001b[0m\n\u001b[0;32m----> 1\u001b[0;31m \u001b[0mds\u001b[0m\u001b[0;34m.\u001b[0m\u001b[0mnav_bar_section\u001b[0m\u001b[0;34m\u001b[0m\u001b[0m\n\u001b[0m",
      "\u001b[0;31mAttributeError\u001b[0m: 'Dashboard' object has no attribute 'nav_bar_section'"
     ]
    }
   ],
   "source": [
    "ds.nav_bar_section"
   ]
  },
  {
   "cell_type": "code",
   "execution_count": null,
   "metadata": {
    "collapsed": true
   },
   "outputs": [],
   "source": []
  }
 ],
 "metadata": {
  "anaconda-cloud": {},
  "kernelspec": {
   "display_name": "Python [Root]",
   "language": "python",
   "name": "Python [Root]"
  },
  "language_info": {
   "codemirror_mode": {
    "name": "ipython",
    "version": 3
   },
   "file_extension": ".py",
   "mimetype": "text/x-python",
   "name": "python",
   "nbconvert_exporter": "python",
   "pygments_lexer": "ipython3",
   "version": "3.5.2"
  }
 },
 "nbformat": 4,
 "nbformat_minor": 0
}
