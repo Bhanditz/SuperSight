{
 "cells": [
  {
   "cell_type": "markdown",
   "metadata": {},
   "source": [
    "![logo](https://s3.eu-central-1.amazonaws.com/camo-bucket/logo_small.svg)"
   ]
  },
  {
   "cell_type": "code",
   "execution_count": 1,
   "metadata": {
    "collapsed": false
   },
   "outputs": [],
   "source": [
    "import io\n",
    "import os\n",
    "import urllib.request\n",
    "\n",
    "import matplotlib.pyplot as plt\n",
    "plt.style.use('seaborn-whitegrid')\n",
    "%matplotlib inline\n",
    "import numpy as np\n",
    "import pandas as pd"
   ]
  },
  {
   "cell_type": "code",
   "execution_count": 2,
   "metadata": {
    "collapsed": false
   },
   "outputs": [],
   "source": [
    "from supersight import Dashboard, Plots_gatherer"
   ]
  },
  {
   "cell_type": "markdown",
   "metadata": {},
   "source": [
    "# 1. Create a collection of plots\n",
    "The main goal of supersight is to gather your plots and organize these plots within a mini web site.\n",
    "Actually, you can embed any svg plots but this tool was designed to work with MatPlotlib.  \n",
    "\n",
    "We start by creating a plots gatherer object.  \n",
    "It will contain our plots for easy retrieval:"
   ]
  },
  {
   "cell_type": "code",
   "execution_count": 3,
   "metadata": {
    "collapsed": true
   },
   "outputs": [],
   "source": [
    "plots = Plots_gatherer()"
   ]
  },
  {
   "cell_type": "markdown",
   "metadata": {},
   "source": [
    "Let's generate a simple plot :"
   ]
  },
  {
   "cell_type": "code",
   "execution_count": 4,
   "metadata": {
    "collapsed": false
   },
   "outputs": [
    {
     "data": {
      "image/png": "[encoded data removed]",
      "text/plain": [
       "<matplotlib.figure.Figure at 0x115295518>"
      ]
     },
     "metadata": {},
     "output_type": "display_data"
    }
   ],
   "source": [
    "graph = plt.figure()\n",
    "x = np.linspace(0, 10, 30)\n",
    "y = np.sin(x)\n",
    "plt.plot(x, y, 'o', color='black');\n",
    "\n",
    "buf = io.BytesIO()\n",
    "plt.savefig(buf, format='svg')\n",
    "plots.add_plot(\"first graph\", buf)"
   ]
  },
  {
   "cell_type": "markdown",
   "metadata": {},
   "source": [
    "Once your are happy with it, supersight requires you to save your plot in  BytesIO objects.  \n",
    "SVG format is advised since it is lightweight and vector-based.  \n",
    "The three last lines are required to save your plot in a way supersight can handle."
   ]
  },
  {
   "cell_type": "markdown",
   "metadata": {},
   "source": [
    "We will make a new plot :"
   ]
  },
  {
   "cell_type": "code",
   "execution_count": 5,
   "metadata": {
    "collapsed": false
   },
   "outputs": [
    {
     "data": {
      "image/png": "[encoded data removed]",
      "text/plain": [
       "<matplotlib.figure.Figure at 0x1177327b8>"
      ]
     },
     "metadata": {},
     "output_type": "display_data"
    }
   ],
   "source": [
    "graph = plt.figure()\n",
    "plt.plot(x, y, '-ok')\n",
    "\n",
    "buf = io.BytesIO()\n",
    "plt.savefig(buf, format='svg')\n",
    "plots.add_plot(\"second graph\", buf)"
   ]
  },
  {
   "cell_type": "markdown",
   "metadata": {},
   "source": [
    "And a third graph for the example :"
   ]
  },
  {
   "cell_type": "code",
   "execution_count": 6,
   "metadata": {
    "collapsed": false
   },
   "outputs": [
    {
     "data": {
      "image/png": "[encoded data removed]",
      "text/plain": [
       "<matplotlib.figure.Figure at 0x117beaef0>"
      ]
     },
     "metadata": {},
     "output_type": "display_data"
    }
   ],
   "source": [
    "graph = plt.figure()\n",
    "plt.scatter(np.random.randn(100), np.random.randn(100));\n",
    "\n",
    "buf = io.BytesIO()\n",
    "plt.savefig(buf, format='svg')\n",
    "plots.add_plot(\"third graph\", buf)"
   ]
  },
  {
   "cell_type": "markdown",
   "metadata": {},
   "source": [
    "Below is a hack to load external svg in our mini site :"
   ]
  },
  {
   "cell_type": "code",
   "execution_count": 7,
   "metadata": {
    "collapsed": false
   },
   "outputs": [],
   "source": [
    "logo = open(\"logo_small.svg\", \"rb\")\n",
    "logo_buf = io.BytesIO(logo.read())\n",
    "plots.add_plot(\"logo\", logo_buf)\n",
    "logo.close()"
   ]
  },
  {
   "cell_type": "markdown",
   "metadata": {},
   "source": [
    "Let's add some pandas dataframes as SuperSight can also display data tables within pages :"
   ]
  },
  {
   "cell_type": "code",
   "execution_count": 8,
   "metadata": {
    "collapsed": true
   },
   "outputs": [],
   "source": [
    "data=pd.read_csv(\"https://s3.eu-central-1.amazonaws.com/camo-bucket/misc_to_link/data_sample.csv\")"
   ]
  },
  {
   "cell_type": "code",
   "execution_count": 9,
   "metadata": {
    "collapsed": false
   },
   "outputs": [],
   "source": [
    "df1 = data.head() # a classic df"
   ]
  },
  {
   "cell_type": "code",
   "execution_count": 10,
   "metadata": {
    "collapsed": true
   },
   "outputs": [],
   "source": [
    "# a simple pivot table\n",
    "df2 = pd.pivot_table(data, index = 'Gender',\n",
    "                     columns = ['Smoking'],\n",
    "                     aggfunc = np.average)"
   ]
  },
  {
   "cell_type": "markdown",
   "metadata": {},
   "source": [
    "# 2. Create a dashboard\n",
    "Once your plots are saved in BytesIO objects you can start making a dashboard by initiating a Dashboard object :  \n"
   ]
  },
  {
   "cell_type": "code",
   "execution_count": 11,
   "metadata": {
    "collapsed": true
   },
   "outputs": [],
   "source": [
    "ds = Dashboard()"
   ]
  },
  {
   "cell_type": "markdown",
   "metadata": {},
   "source": [
    "By default, the mini site comes with a home page. We will add two sections. The first section will contain only one page and the second will contain two pages.  \n",
    "**As a convention a single-page section is composed of a page named \"Page 1\".**"
   ]
  },
  {
   "cell_type": "code",
   "execution_count": 12,
   "metadata": {
    "collapsed": false
   },
   "outputs": [],
   "source": [
    "ds.add_section(\"Section 1\")\n",
    "# We just created a section named Section 1. Pick a custom name that describe an underlying idea of your plots.\n",
    "ds.sections[\"Section 1\"].add_page(\"Page 1\")\n",
    "\n",
    "\n",
    "ds.add_section(\"Section 2\")\n",
    "# We just created a section named Section 2. We said we wanted two pages in this section :\n",
    "ds.sections[\"Section 2\"].add_page(\"Interesting Page\")\n",
    "ds.sections[\"Section 2\"].add_page(\"Great Page\") # name it as you want !"
   ]
  },
  {
   "cell_type": "markdown",
   "metadata": {},
   "source": [
    "Each page is organised following a classic Bootstrap grid. Users can display elements on this grid. The default grid is `[(6, 6), (6, 6), (6, 6)]`. It means the page displays three rows with two elements on each row.  \n",
    "Of course, this layout can be overridden. For the Home page we will display the supersight logo.  \n",
    "According to the Bootstrap grid system the layout for a single row and a single element is `[(12,)]`."
   ]
  },
  {
   "cell_type": "code",
   "execution_count": 13,
   "metadata": {
    "collapsed": true
   },
   "outputs": [],
   "source": [
    "ds.sections[\"Home\"].pages[\"Home\"].layout = [(12,)]"
   ]
  },
  {
   "cell_type": "code",
   "execution_count": 14,
   "metadata": {
    "collapsed": false
   },
   "outputs": [],
   "source": [
    "ds.sections[\"Home\"].pages[\"Home\"].add_element(name = \"logo\", plot_object = plots.get_plot(\"logo\"))\n"
   ]
  },
  {
   "cell_type": "markdown",
   "metadata": {},
   "source": [
    "In section 1, the default grid can stay (hence six plots). Users can populate the grid with their plots. This process populate the grid from left to right and from top to bottom :"
   ]
  },
  {
   "cell_type": "code",
   "execution_count": 15,
   "metadata": {
    "collapsed": true
   },
   "outputs": [],
   "source": [
    "ds.sections[\"Section 1\"].pages[\"Page 1\"].add_element(name = \"plot 1\", plot_object = plots.get_plot(\"first graph\"))\n",
    "ds.sections[\"Section 1\"].pages[\"Page 1\"].add_element(name = \"plot 2\", plot_object = plots.get_plot(\"first graph\"))\n",
    "\n",
    "ds.sections[\"Section 1\"].pages[\"Page 1\"].add_element(name = \"plot 3\", plot_object = plots.get_plot(\"second graph\"))\n",
    "ds.sections[\"Section 1\"].pages[\"Page 1\"].add_element(name = \"plot 4\", plot_object = plots.get_plot(\"second graph\"))\n",
    "\n",
    "ds.sections[\"Section 1\"].pages[\"Page 1\"].add_element(name = \"plot 5\", plot_object = plots.get_plot(\"third graph\"))\n",
    "ds.sections[\"Section 1\"].pages[\"Page 1\"].add_element(name = \"plot 6\", plot_object = plots.get_plot(\"third graph\"))\n",
    "# add comments :\n",
    "ds.sections[\"Section 1\"].pages[\"Page 1\"].elements[\"plot 3\"].add_comment_below(\"This plot will convince you !\")"
   ]
  },
  {
   "cell_type": "markdown",
   "metadata": {},
   "source": [
    "Users can also use MathJax to dsiplay equations in comments :"
   ]
  },
  {
   "cell_type": "code",
   "execution_count": 16,
   "metadata": {
    "collapsed": false
   },
   "outputs": [],
   "source": [
    "ds.sections[\"Section 1\"].pages[\"Page 1\"].elements[\"plot 6\"].add_comment_below(\"\"\"This one is not bad either ! <br>\n",
    "You can also use MathJax : $x = {-b \\pm \\sqrt{b^2-4ac} \\over 2a}.$\"\"\")"
   ]
  },
  {
   "cell_type": "markdown",
   "metadata": {},
   "source": [
    "Now we can try to vary the layout. For instance on the first row we will display a plot two third the width.  \n",
    "On the second row we can display a unique plot with a heading.  \n",
    "And then three small plots on the last row."
   ]
  },
  {
   "cell_type": "code",
   "execution_count": 17,
   "metadata": {
    "collapsed": true
   },
   "outputs": [],
   "source": [
    "ds.sections[\"Section 2\"].pages[\"Interesting Page\"].layout = [(8, 4), (12,), (4, 4, 4)]\n",
    "\n",
    "ds.sections[\"Section 2\"].pages[\"Interesting Page\"].add_element(name = \"plot 1\", plot_object = plots.get_plot(\"third graph\"), heading = None)\n",
    "ds.sections[\"Section 2\"].pages[\"Interesting Page\"].add_element(name = \"plot 2\", plot_object = plots.get_plot(\"first graph\"), heading = None)\n",
    "\n",
    "ds.sections[\"Section 2\"].pages[\"Interesting Page\"].add_element(name = \"plot 3\", plot_object = plots.get_plot(\"second graph\"), heading = \"Interesting Heading\")\n",
    "\n",
    "ds.sections[\"Section 2\"].pages[\"Interesting Page\"].add_element(name = \"plot 4\", plot_object = plots.get_plot(\"third graph\"), heading = None)\n",
    "ds.sections[\"Section 2\"].pages[\"Interesting Page\"].add_element(name = \"plot 5\", plot_object = plots.get_plot(\"third graph\"), heading = None)\n",
    "ds.sections[\"Section 2\"].pages[\"Interesting Page\"].add_element(name = \"plot 6\", plot_object = plots.get_plot(\"third graph\"), heading = None)"
   ]
  },
  {
   "cell_type": "code",
   "execution_count": 18,
   "metadata": {
    "collapsed": true
   },
   "outputs": [],
   "source": [
    "dummy =\"\"\"One morning, when Gregor Samsa woke from troubled dreams, he found himself transformed in his bed into a \n",
    "horrible vermin. He lay on his armour-like back, and if he lifted his head a little he could see his brown belly, \n",
    "slightly domed and divided by arches into stiff sections. The bedding was hardly able to cover it and seemed ready \n",
    "to slide off any moment. His many legs, pitifully thin compared with the size of the rest of him, waved about \n",
    "helplessly as he looked. \"What's happened to me?\" he thought. It wasn't a dream. His room, a proper human room \n",
    "although a little too small, lay peacefully between its four familiar walls. A collection of textile samples \n",
    "lay spread out on the table - Samsa was a travelling salesman - \n",
    "and above it there hung a picture that he had recently cut out of an illustrated magazine and housed\"\"\""
   ]
  },
  {
   "cell_type": "code",
   "execution_count": 19,
   "metadata": {
    "collapsed": false
   },
   "outputs": [],
   "source": [
    "ds.sections[\"Section 2\"].pages[\"Interesting Page\"].elements[\"plot 1\"].add_comment_above(dummy)\n",
    "ds.sections[\"Section 2\"].pages[\"Interesting Page\"].elements[\"plot 2\"].add_comment_below(dummy[:277])"
   ]
  },
  {
   "cell_type": "markdown",
   "metadata": {},
   "source": [
    "To finish, we can display text and tables on the \"great page\" !"
   ]
  },
  {
   "cell_type": "code",
   "execution_count": 20,
   "metadata": {
    "collapsed": false
   },
   "outputs": [],
   "source": [
    "ds.sections[\"Section 2\"].pages[\"Great Page\"].layout = [(8, 4), (6,6), (12,), (12,)]\n",
    "ds.sections[\"Section 2\"].pages[\"Great Page\"].add_element(name = \"info\", heading = \"Contact Information\", \n",
    "                                                         comment_below = \"camille.moatti@gmail.com <br> +33 (0) X XX XX XX XX\", \n",
    "                                                         comment_above = \"<br>Camille Moatti\")\n",
    "ds.sections[\"Section 2\"].pages[\"Great Page\"].add_element(name = \"text\", plot_object = plots.get_plot(\"logo\"))"
   ]
  },
  {
   "cell_type": "code",
   "execution_count": 21,
   "metadata": {
    "collapsed": false
   },
   "outputs": [],
   "source": [
    "ds.sections[\"Section 2\"].pages[\"Great Page\"].add_element(name = \"small table\")\n",
    "ds.sections[\"Section 2\"].pages[\"Great Page\"].elements[\"small table\"].add_table(df1)"
   ]
  },
  {
   "cell_type": "code",
   "execution_count": 22,
   "metadata": {
    "collapsed": false
   },
   "outputs": [],
   "source": [
    "ds.sections[\"Section 2\"].pages[\"Great Page\"].add_element(name = \"small table 2\")\n",
    "ds.sections[\"Section 2\"].pages[\"Great Page\"].elements[\"small table 2\"].add_table(df1)"
   ]
  },
  {
   "cell_type": "code",
   "execution_count": 23,
   "metadata": {
    "collapsed": false
   },
   "outputs": [],
   "source": [
    "ds.sections[\"Section 2\"].pages[\"Great Page\"].add_element(name = \"small table 3\")\n",
    "ds.sections[\"Section 2\"].pages[\"Great Page\"].elements[\"small table 3\"].add_table(df1)"
   ]
  },
  {
   "cell_type": "code",
   "execution_count": 24,
   "metadata": {
    "collapsed": false
   },
   "outputs": [],
   "source": [
    "ds.sections[\"Section 2\"].pages[\"Great Page\"].add_element(name = \"pivot table\")\n",
    "ds.sections[\"Section 2\"].pages[\"Great Page\"].elements[\"pivot table\"].add_table(df2)"
   ]
  },
  {
   "cell_type": "code",
   "execution_count": 25,
   "metadata": {
    "collapsed": false
   },
   "outputs": [
    {
     "data": {
      "text/html": [
       "<div>\n",
       "<table border=\"1\" class=\"dataframe\">\n",
       "  <thead>\n",
       "    <tr>\n",
       "      <th></th>\n",
       "      <th colspan=\"2\" halign=\"left\">Age</th>\n",
       "      <th colspan=\"2\" halign=\"left\">BMI</th>\n",
       "      <th colspan=\"2\" halign=\"left\">Cholesterol</th>\n",
       "      <th colspan=\"2\" halign=\"left\">SystolicBP</th>\n",
       "    </tr>\n",
       "    <tr>\n",
       "      <th>Smoking</th>\n",
       "      <th>No</th>\n",
       "      <th>Yes</th>\n",
       "      <th>No</th>\n",
       "      <th>Yes</th>\n",
       "      <th>No</th>\n",
       "      <th>Yes</th>\n",
       "      <th>No</th>\n",
       "      <th>Yes</th>\n",
       "    </tr>\n",
       "    <tr>\n",
       "      <th>Gender</th>\n",
       "      <th></th>\n",
       "      <th></th>\n",
       "      <th></th>\n",
       "      <th></th>\n",
       "      <th></th>\n",
       "      <th></th>\n",
       "      <th></th>\n",
       "      <th></th>\n",
       "    </tr>\n",
       "  </thead>\n",
       "  <tbody>\n",
       "    <tr>\n",
       "      <th>Female</th>\n",
       "      <td>56.2500</td>\n",
       "      <td>58.910811</td>\n",
       "      <td>26.872642</td>\n",
       "      <td>26.370270</td>\n",
       "      <td>223.929245</td>\n",
       "      <td>227.286486</td>\n",
       "      <td>143.933962</td>\n",
       "      <td>147.845946</td>\n",
       "    </tr>\n",
       "    <tr>\n",
       "      <th>Male</th>\n",
       "      <td>58.3125</td>\n",
       "      <td>58.131429</td>\n",
       "      <td>27.043056</td>\n",
       "      <td>26.428571</td>\n",
       "      <td>227.425000</td>\n",
       "      <td>214.548571</td>\n",
       "      <td>146.022222</td>\n",
       "      <td>146.785714</td>\n",
       "    </tr>\n",
       "  </tbody>\n",
       "</table>\n",
       "</div>"
      ],
      "text/plain": [
       "             Age                   BMI            Cholesterol              \\\n",
       "Smoking       No        Yes         No        Yes          No         Yes   \n",
       "Gender                                                                      \n",
       "Female   56.2500  58.910811  26.872642  26.370270  223.929245  227.286486   \n",
       "Male     58.3125  58.131429  27.043056  26.428571  227.425000  214.548571   \n",
       "\n",
       "         SystolicBP              \n",
       "Smoking          No         Yes  \n",
       "Gender                           \n",
       "Female   143.933962  147.845946  \n",
       "Male     146.022222  146.785714  "
      ]
     },
     "execution_count": 25,
     "metadata": {},
     "output_type": "execute_result"
    }
   ],
   "source": [
    "df2"
   ]
  },
  {
   "cell_type": "code",
   "execution_count": 26,
   "metadata": {
    "collapsed": false
   },
   "outputs": [
    {
     "name": "stdout",
     "output_type": "stream",
     "text": [
      "bootstrap-grid.css\n",
      "bootstrap-grid.css.map\n",
      "bootstrap-grid.min.css\n",
      "bootstrap-grid.min.css.map\n",
      "bootstrap-reboot.css\n",
      "bootstrap-reboot.css.map\n",
      "bootstrap-reboot.min.css\n",
      "bootstrap-reboot.min.css.map\n",
      "bootstrap.css\n",
      "bootstrap.css.map\n",
      "bootstrap.min.css\n",
      "bootstrap.min.css.map\n",
      "jumbotron.css\n",
      ".DS_Store\n",
      "bootstrap.js\n",
      "bootstrap.min.js\n",
      "Home Home logo\n",
      "Starting individual page : Section 1 Page 1\n",
      "Section 1 Page 1 plot 1\n",
      "Section 1 Page 1 plot 2\n",
      "Section 1 Page 1 plot 3\n",
      "Section 1 Page 1 plot 4\n",
      "Section 1 Page 1 plot 5\n",
      "Section 1 Page 1 plot 6\n",
      "Starting individual page : Section 2 Interesting Page\n",
      "Section 2 Interesting Page plot 1\n",
      "Section 2 Interesting Page plot 2\n",
      "Section 2 Interesting Page plot 3\n",
      "Section 2 Interesting Page plot 4\n",
      "Section 2 Interesting Page plot 5\n",
      "Section 2 Interesting Page plot 6\n",
      "Starting individual page : Section 2 Great Page\n",
      "Section 2 Great Page info\n",
      "Section 2 Great Page text\n",
      "Section 2 Great Page small table\n",
      "Section 2 Great Page small table 2\n",
      "Section 2 Great Page small table 3\n",
      "Section 2 Great Page pivot table\n"
     ]
    }
   ],
   "source": [
    "ds.render()"
   ]
  },
  {
   "cell_type": "markdown",
   "metadata": {
    "collapsed": true
   },
   "source": [
    "# 3. Customize the default template"
   ]
  },
  {
   "cell_type": "markdown",
   "metadata": {},
   "source": [
    "SuperSight comes with the possibility to easily hack the default template. I let a plain vanilla Bootstrap 4 template because a lot are already familiar with this framework.  \n",
    "The easier way to get started is to copy the default template from the module."
   ]
  },
  {
   "cell_type": "markdown",
   "metadata": {
    "collapsed": false
   },
   "source": [
    "Here the complete folder 'customized_template' is in the current directory :\n",
    "```python\n",
    "ds.render(template='customized_template')\n",
    "```"
   ]
  },
  {
   "cell_type": "code",
   "execution_count": null,
   "metadata": {
    "collapsed": true
   },
   "outputs": [],
   "source": []
  }
 ],
 "metadata": {
  "anaconda-cloud": {},
  "kernelspec": {
   "display_name": "Python [Root]",
   "language": "python",
   "name": "Python [Root]"
  },
  "language_info": {
   "codemirror_mode": {
    "name": "ipython",
    "version": 3
   },
   "file_extension": ".py",
   "mimetype": "text/x-python",
   "name": "python",
   "nbconvert_exporter": "python",
   "pygments_lexer": "ipython3",
   "version": "3.5.2"
  }
 },
 "nbformat": 4,
 "nbformat_minor": 0
}
